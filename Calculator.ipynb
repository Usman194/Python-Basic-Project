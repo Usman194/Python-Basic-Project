{
  "nbformat": 4,
  "nbformat_minor": 0,
  "metadata": {
    "colab": {
      "provenance": [],
      "authorship_tag": "ABX9TyMZGW+Xff4VHkKFWQr1AhQW",
      "include_colab_link": true
    },
    "kernelspec": {
      "name": "python3",
      "display_name": "Python 3"
    },
    "language_info": {
      "name": "python"
    }
  },
  "cells": [
    {
      "cell_type": "markdown",
      "metadata": {
        "id": "view-in-github",
        "colab_type": "text"
      },
      "source": [
        "<a href=\"https://colab.research.google.com/github/Usman194/Python-Basic-Project/blob/main/Calculator.ipynb\" target=\"_parent\"><img src=\"https://colab.research.google.com/assets/colab-badge.svg\" alt=\"Open In Colab\"/></a>"
      ]
    },
    {
      "cell_type": "markdown",
      "metadata": {
        "id": "vuax6dBZwnqQ"
      },
      "source": [
        "3). Create a calculator that can perform basic operations like addition, subtraction, multiplication, and division. Allow users to input two numbers and choose an operation."
      ]
    },
    {
      "cell_type": "code",
      "execution_count": null,
      "metadata": {
        "colab": {
          "background_save": true,
          "base_uri": "https://localhost:8080/"
        },
        "id": "4q8G6Mz6wmvb",
        "outputId": "2a34209a-c284-40ea-cd24-4037aca7c579"
      },
      "outputs": [
        {
          "name": "stdout",
          "output_type": "stream",
          "text": [
            "Select operation you can perform\n",
            "a). Addition\n",
            "b). Subtraction\n",
            "c). Division\n",
            "d). Multiplication\n",
            "Invalid choice, Please try again.\n",
            "Select operation you can perform\n",
            "a). Addition\n",
            "b). Subtraction\n",
            "c). Division\n",
            "d). Multiplication\n",
            "Addition=  123\n"
          ]
        }
      ],
      "source": [
        "def calculator():\n",
        " print(\"Select operation you can perform\")\n",
        " print(\"a). Addition\")\n",
        " print(\"b). Subtraction\")\n",
        " print(\"c). Division\")\n",
        " print(\"d). Multiplication\")\n",
        "\n",
        " choice = input(\"Select option you can perform: \")\n",
        "\n",
        " if choice == \"a).\":\n",
        "  num1 = int(input(\"Enter first number: \"))\n",
        "  num2 = int(input(\"Enter your second number: \"))\n",
        "  add = num1 + num2\n",
        "  print(\"Addition= \", add)\n",
        " elif choice == \"b).\":\n",
        "   num1 = int(input(\"Enter first number: \"))\n",
        "   num2 = int(input(\"Enter your second number: \"))\n",
        "   sub = num1 - num2\n",
        "   print(\"Subtraction= \", sub)\n",
        " elif choice == \"c).\":\n",
        "   num1 = int(input(\"Enter first number: \"))\n",
        "   num2 = int(input(\"Enter your second number: \"))\n",
        "   division = num1 / num2\n",
        "   print(\"Division= \", division)\n",
        " elif choice == \"d).\":\n",
        "   num1 = int(input(\"Enter first number: \"))\n",
        "   num2 = int(input(\"Enter your second number: \"))\n",
        "   mul = num1 * num2\n",
        "   print(\"Multiplication= \", mul)\n",
        " else:\n",
        "  print(\"Invalid choice, Please try again.\")\n",
        "while True:\n",
        "  calculator()\n",
        "  user_input = input(\"Do you want to perform operation again? (y/n): \")\n",
        "  if user_input != \"y\":\n",
        "    print(\"Existing the calculator. Goodbye!\")\n",
        "    break"
      ]
    }
  ]
}