{
  "nbformat": 4,
  "nbformat_minor": 0,
  "metadata": {
    "colab": {
      "provenance": [],
      "authorship_tag": "ABX9TyNcWC4k87bWuKjDJCBvmzeF",
      "include_colab_link": true
    },
    "kernelspec": {
      "name": "python3",
      "display_name": "Python 3"
    },
    "language_info": {
      "name": "python"
    }
  },
  "cells": [
    {
      "cell_type": "markdown",
      "metadata": {
        "id": "view-in-github",
        "colab_type": "text"
      },
      "source": [
        "<a href=\"https://colab.research.google.com/github/Usman194/Python-Basic-Project/blob/main/GuessNumber.ipynb\" target=\"_parent\"><img src=\"https://colab.research.google.com/assets/colab-badge.svg\" alt=\"Open In Colab\"/></a>"
      ]
    },
    {
      "cell_type": "markdown",
      "source": [
        "#Project Guess my Number\n",
        "Problem Statement\n",
        "Guess My Number\n",
        "\n",
        "I am thinking of a number between 0 and 99... Enter a guess: 50 Your guess is too high\n",
        "\n",
        "Enter a new number: 25 Your guess is too low\n",
        "\n",
        "Enter a new number: 40 Your guess is too low\n",
        "\n",
        "Enter a new number: 45 Your guess is too low\n",
        "\n",
        "Enter a new number: 48 Congrats! The number was: 48\n",
        "\n",
        "Starter Code\n",
        "def main():\n",
        "    print(\"Delete this line and write your code here! :)\")\n",
        "\n",
        "\n",
        "# This provided line is required at the end of\n",
        "# Python file to call the main() function.\n",
        "if __name__ == '__main__':\n",
        "    main()"
      ],
      "metadata": {
        "id": "Phzk96N9FraV"
      }
    },
    {
      "cell_type": "code",
      "source": [
        "import random\n",
        "number = random.randint(0, 99)\n",
        "\n",
        "while True:\n",
        "  guess = int(input(\"Enter a guess number: \"))\n",
        "  if guess > number:\n",
        "    print(\"Your guess is too high\")\n",
        "  elif guess < number:\n",
        "    print(\"Your guess is too low\")\n",
        "  else:\n",
        "    print(\"Congrats! The number was:\", number)\n",
        "    break"
      ],
      "metadata": {
        "colab": {
          "base_uri": "https://localhost:8080/"
        },
        "id": "HS7p30j5Hge9",
        "outputId": "d4acdf04-53dc-4c34-d2c3-c2fbe6c558f5"
      },
      "execution_count": null,
      "outputs": [
        {
          "output_type": "stream",
          "name": "stdout",
          "text": [
            "Enter a guess number: 34\n",
            "Congrats! The number was: 34\n"
          ]
        }
      ]
    }
  ]
}