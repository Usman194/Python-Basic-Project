{
  "nbformat": 4,
  "nbformat_minor": 0,
  "metadata": {
    "colab": {
      "provenance": [],
      "authorship_tag": "ABX9TyMv7dDzsfN1mikTHqq5BdP4",
      "include_colab_link": true
    },
    "kernelspec": {
      "name": "python3",
      "display_name": "Python 3"
    },
    "language_info": {
      "name": "python"
    }
  },
  "cells": [
    {
      "cell_type": "markdown",
      "metadata": {
        "id": "view-in-github",
        "colab_type": "text"
      },
      "source": [
        "<a href=\"https://colab.research.google.com/github/Usman194/Python-Basic-Project/blob/main/SMS.ipynb\" target=\"_parent\"><img src=\"https://colab.research.google.com/assets/colab-badge.svg\" alt=\"Open In Colab\"/></a>"
      ]
    },
    {
      "cell_type": "markdown",
      "metadata": {
        "id": "TYbo7vh4scVm"
      },
      "source": [
        "7). Create Student Management System that contain add_s=student information, view SMS , search SMS and delete task."
      ]
    },
    {
      "cell_type": "code",
      "execution_count": null,
      "metadata": {
        "id": "LD4GJ9_4s_pq",
        "colab": {
          "base_uri": "https://localhost:8080/"
        },
        "outputId": "d15889e3-85e1-4b57-8464-ceed0ba57a3c"
      },
      "outputs": [
        {
          "output_type": "stream",
          "name": "stdout",
          "text": [
            "Select Option\n",
            "1. Add Task\n",
            "2. View Task\n",
            "3. Search Information\n",
            "4. Delete Information\n",
            "5. Exit\n",
            "Select an Option: 5\n",
            "Exit the Student Management System\n"
          ]
        }
      ],
      "source": [
        "Task = {}\n",
        "\n",
        "\n",
        "def student_management():\n",
        "    name = input(\"Enter the Student name: \")\n",
        "    fname = input(\"Enter the Student's Father's name: \")\n",
        "    number = int(input(\"Enter your Marks: \"))\n",
        "    degree = input(\"Enter your class: \")\n",
        "\n",
        "    Task[name] = {\"FatherName\": fname, \"Marks\": number, \"Degree\": degree}\n",
        "    print(f\"Your selection for {name} has been added.\")\n",
        "\n",
        "def view_studentMngmnt():\n",
        "   print(\"\\nAll Student Information\")\n",
        "   for name, details in Task.items():\n",
        "    print(f\"Name : {name}, Father's Name: {details['FatherName']}, Marks: {details['Marks']}, Degree: {details['Degree']}\")\n",
        "\n",
        "   else:\n",
        "    print(\"No information available\")\n",
        "\n",
        "def search_std():\n",
        "  name = input(\"Enter the name to search: \")\n",
        "  if name in Task:\n",
        "    details = Task[name]\n",
        "    print(f\"Name : {name}, Father's Name: {details['FatherName']}, Marks: {details['Marks']}, Degree: {details['Degree']}\")\n",
        "  else:\n",
        "    print(f\"No information about this name.\")\n",
        "def del_std():\n",
        "  name = input(\"Enter the name to delete information: \")\n",
        "  if name in Task:\n",
        "    del Task[name]\n",
        "    print(f\"Delete information about this {name}.\")\n",
        "  else:\n",
        "    print(f\"No information found for {name}\")\n",
        "\n",
        "def main():\n",
        "  while True:\n",
        "    print(\"Select Option\")\n",
        "    print(\"1. Add Task\")\n",
        "    print(\"2. View Task\")\n",
        "    print(\"3. Search Information\")\n",
        "    print(\"4. Delete Information\")\n",
        "    print(\"5. Exit\")\n",
        "\n",
        "    choice = input(\"Select an Option: \")\n",
        "    if choice == \"1\":\n",
        "      student_management()\n",
        "    elif choice == \"2\":\n",
        "      view_studentMngmnt()\n",
        "    elif choice == \"3\":\n",
        "     search_std()\n",
        "    elif choice == \"4\":\n",
        "      del_std()\n",
        "    elif choice == \"5\":\n",
        "      print(\"Exit the Student Management System\")\n",
        "      break\n",
        "    else:\n",
        "      print(\"Invalid data, try again\")\n",
        "main()"
      ]
    }
  ]
}