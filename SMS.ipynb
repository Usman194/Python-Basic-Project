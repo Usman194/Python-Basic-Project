{
  "nbformat": 4,
  "nbformat_minor": 0,
  "metadata": {
    "colab": {
      "provenance": [],
      "authorship_tag": "ABX9TyOSBITohFvW0p59R/1SAjNA",
      "include_colab_link": true
    },
    "kernelspec": {
      "name": "python3",
      "display_name": "Python 3"
    },
    "language_info": {
      "name": "python"
    }
  },
  "cells": [
    {
      "cell_type": "markdown",
      "metadata": {
        "id": "view-in-github",
        "colab_type": "text"
      },
      "source": [
        "<a href=\"https://colab.research.google.com/github/Usman194/Python-Basic-Project/blob/main/SMS.ipynb\" target=\"_parent\"><img src=\"https://colab.research.google.com/assets/colab-badge.svg\" alt=\"Open In Colab\"/></a>"
      ]
    },
    {
      "cell_type": "markdown",
      "metadata": {
        "id": "RFIl2icxVZvC"
      },
      "source": [
        " Create a quiz game where the user is asked multiple-choice questions, and they get a score based on correct answers."
      ]
    },
    {
      "cell_type": "code",
      "source": [
        "SMS = {}\n",
        "\n",
        "def add():\n",
        "  name = str(input(\"Please enter your name: \"))\n",
        "  father = str(input(\"Please enter your father name: \"))\n",
        "  degree = input(\"Please enter your class: \")\n",
        "  marks = int(input(\"Please enter your marks: \"))\n",
        "  SMS[name] = {\"Father Name\": father, \"Degree\": degree, \"Marks\": marks}\n",
        "  print(f\"Your information about {name} has been added sucessfully.\")\n",
        "\n",
        "def view():\n",
        "  print(\"\\n All information stored.\")\n",
        "  if not SMS:\n",
        "    print(\"No information available.\")\n",
        "  else:\n",
        "    for name, details in SMS.items():\n",
        "      print(f\"Details for {name}\")\n",
        "      print(f\"Father Name: {details['Father Name']}\") # Change 'father' to 'Father Name'\n",
        "      print(f\"Degree: {details['Degree']}\") # Change 'degree' to 'Degree'\n",
        "      print(f\"Marks: {details['Marks']}\") # Change 'marks' to 'Marks'\n",
        "\n",
        "def search():\n",
        "  name = input(\"Please enter name: \")\n",
        "  if not SMS:\n",
        "    print(f\"There is no information about{name}\")\n",
        "  else:\n",
        "    for name, details in SMS.items():\n",
        "      print(f\"Information {name}\")\n",
        "      print(f\"Father Name: {details['Father Name']}\")\n",
        "      print(f\"Degree: {details['Degree']}\")\n",
        "      print(f\"Marks: {details['Marks']}\")\n",
        "def delete():\n",
        "  name = input(\"Please enter the name to delete information: \")\n",
        "  if name in SMS:\n",
        "    del SMS[name]\n",
        "    print(f\"Delete information about {name}\")\n",
        "  else:\n",
        "    print(f\"There is no information about {name}\")\n",
        "\n",
        "def main():\n",
        "  while True:\n",
        "    print(\"Select Option\")\n",
        "    print(\"1. Add Task\")\n",
        "    print(\"2. View Task\")\n",
        "    print(\"3. Search Task\")\n",
        "    print(\"4. Del Task\")\n",
        "    print(\"5. Exit\")\n",
        "\n",
        "    choices = input(\"Select an Option: \")\n",
        "\n",
        "    if choices == \"1\":\n",
        "      add()\n",
        "    elif choices == \"2\":\n",
        "      view()\n",
        "    elif choices == \"3\":\n",
        "      search()\n",
        "    elif choices == \"4\":\n",
        "      delete()\n",
        "    elif choices == \"5\":\n",
        "      print(\"Exit the SMS Good Bye!\")\n",
        "      break\n",
        "    else:\n",
        "      print(\"Invalid Option, try again\")\n",
        "\n",
        "main()\n",
        "\n",
        "\n"
      ],
      "metadata": {
        "id": "aDXRsmmnBfhz",
        "colab": {
          "base_uri": "https://localhost:8080/"
        },
        "outputId": "e9f5186b-1f48-4aae-c3bd-e882a33841c7"
      },
      "execution_count": null,
      "outputs": [
        {
          "output_type": "stream",
          "name": "stdout",
          "text": [
            "Select Option\n",
            "1. Add Task\n",
            "2. View Task\n",
            "3. Search Task\n",
            "4. Del Task\n",
            "5. Exit\n",
            "Select an Option: 1\n",
            "Please enter your name: Usman\n",
            "Please enter your father name: Yousaf\n",
            "Please enter your class: 10th\n",
            "Please enter your marks: 1123\n",
            "Your information about Usman has been added sucessfully.\n",
            "Select Option\n",
            "1. Add Task\n",
            "2. View Task\n",
            "3. Search Task\n",
            "4. Del Task\n",
            "5. Exit\n",
            "Select an Option: 3\n",
            "Please enter name: Usman\n",
            "Details for Usman\n",
            "Father Name: Yousaf\n",
            "Degree: 10th\n",
            "Marks: 1123\n",
            "Select Option\n",
            "1. Add Task\n",
            "2. View Task\n",
            "3. Search Task\n",
            "4. Del Task\n",
            "5. Exit\n",
            "Select an Option: 4\n",
            "Please enter the name to delete information: Usman\n",
            "Delete information about Usman\n",
            "Select Option\n",
            "1. Add Task\n",
            "2. View Task\n",
            "3. Search Task\n",
            "4. Del Task\n",
            "5. Exit\n",
            "Select an Option: 2\n",
            "\n",
            " All information stored.\n",
            "No information available.\n",
            "Select Option\n",
            "1. Add Task\n",
            "2. View Task\n",
            "3. Search Task\n",
            "4. Del Task\n",
            "5. Exit\n",
            "Select an Option: 5\n",
            "Exit the SMS\n"
          ]
        }
      ]
    }
  ]
}