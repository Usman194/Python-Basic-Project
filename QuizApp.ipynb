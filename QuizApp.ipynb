{
  "nbformat": 4,
  "nbformat_minor": 0,
  "metadata": {
    "colab": {
      "provenance": [],
      "authorship_tag": "ABX9TyMXw5197QzADK2IHnhyQxdU",
      "include_colab_link": true
    },
    "kernelspec": {
      "name": "python3",
      "display_name": "Python 3"
    },
    "language_info": {
      "name": "python"
    }
  },
  "cells": [
    {
      "cell_type": "markdown",
      "metadata": {
        "id": "view-in-github",
        "colab_type": "text"
      },
      "source": [
        "<a href=\"https://colab.research.google.com/github/Usman194/Python-Basic-Project/blob/main/QuizApp.ipynb\" target=\"_parent\"><img src=\"https://colab.research.google.com/assets/colab-badge.svg\" alt=\"Open In Colab\"/></a>"
      ]
    },
    {
      "cell_type": "markdown",
      "metadata": {
        "id": "RFIl2icxVZvC"
      },
      "source": [
        "8). Create a quiz game where the user is asked multiple-choice questions, and they get a score based on correct answers."
      ]
    },
    {
      "cell_type": "code",
      "execution_count": null,
      "metadata": {
        "id": "ETrwPXnFVeiM",
        "colab": {
          "base_uri": "https://localhost:8080/"
        },
        "outputId": "7ac494ee-ffbd-4ad4-8e57-2eb0a7ee84e6"
      },
      "outputs": [
        {
          "output_type": "stream",
          "name": "stdout",
          "text": [
            "Enter your name: usman\n",
            "Enter your roll no: 111\n",
            "Question 1: What is the capital of France?\n",
            "1. Berlin\n",
            "2. Paris\n",
            "3. Madrid\n",
            "4. Rome\n",
            "Please enter the number of your answer: 2\n",
            "Correct!\n",
            "\n",
            "Question 2: Which planet is known as the Red Planet?\n",
            "1. Earth\n",
            "2. Mars\n",
            "3. Venus\n",
            "4. Jupiter\n",
            "Please enter the number of your answer: 2\n",
            "Correct!\n",
            "\n",
            "Question 3: What is the largest ocean on Earth?\n",
            "1. Atlantic Ocean\n",
            "2. Indian Ocean\n",
            "3. Arctic Ocean\n",
            "4. Pacific Ocean\n",
            "Please enter the number of your answer: 4\n",
            "Correct!\n",
            "\n",
            "Question 4: Who wrote 'Hamlet'?\n",
            "1. Charles Dickens\n",
            "2. William Shakespeare\n",
            "3. Mark Twain\n",
            "4. Jane Austen\n",
            "Please enter the number of your answer: 2\n",
            "Correct!\n",
            "\n",
            "Your final score is 4/4.\n"
          ]
        }
      ],
      "source": [
        "def run_quiz():\n",
        "    name = str(input(\"Enter your name: \"))\n",
        "    roll_no = int(input(\"Enter your roll no: \"))\n",
        "    questions = [\n",
        "        {\n",
        "            \"question\": \"What is the capital of France?\",\n",
        "            \"choices\": [\"1. Berlin\", \"2. Paris\", \"3. Madrid\", \"4. Rome\"],\n",
        "            \"answer\": 2\n",
        "        },\n",
        "        {\n",
        "            \"question\": \"Which planet is known as the Red Planet?\",\n",
        "            \"choices\": [\"1. Earth\", \"2. Mars\", \"3. Venus\", \"4. Jupiter\"],\n",
        "            \"answer\": 2\n",
        "        },\n",
        "        {\n",
        "            \"question\": \"What is the largest ocean on Earth?\",\n",
        "            \"choices\": [\"1. Atlantic Ocean\", \"2. Indian Ocean\", \"3. Arctic Ocean\", \"4. Pacific Ocean\"],\n",
        "            \"answer\": 4\n",
        "        },\n",
        "        {\n",
        "            \"question\": \"Who wrote 'Hamlet'?\",\n",
        "            \"choices\": [\"1. Charles Dickens\", \"2. William Shakespeare\", \"3. Mark Twain\", \"4. Jane Austen\"],\n",
        "            \"answer\": 2\n",
        "        }\n",
        "    ]\n",
        "\n",
        "    score = 0\n",
        "\n",
        "    for i, question in enumerate(questions):\n",
        "        print(f\"Question {i + 1}: {question['question']}\")\n",
        "        for choice in question['choices']:\n",
        "            print(choice)\n",
        "\n",
        "        try:\n",
        "            user_answer = int(input(\"Please enter the number of your answer: \"))\n",
        "        except ValueError:\n",
        "            print(\"Invalid input! Please enter a number corresponding to the answer.\")\n",
        "            continue\n",
        "\n",
        "        if user_answer == question[\"answer\"]:\n",
        "            print(\"Correct!\\n\")\n",
        "            score += 1\n",
        "        else:\n",
        "            print(f\"Wrong! The correct answer was {question['answer']}. {question['choices'][question['answer'] - 1]}\\n\")\n",
        "\n",
        "    print(f\"Your final score is {score}/{len(questions)}.\")\n",
        "run_quiz()\n"
      ]
    }
  ]
}