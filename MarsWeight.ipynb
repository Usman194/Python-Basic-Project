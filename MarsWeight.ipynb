{
  "nbformat": 4,
  "nbformat_minor": 0,
  "metadata": {
    "colab": {
      "provenance": [],
      "authorship_tag": "ABX9TyOIlRIIeYLU3TgiYbXERvki",
      "include_colab_link": true
    },
    "kernelspec": {
      "name": "python3",
      "display_name": "Python 3"
    },
    "language_info": {
      "name": "python"
    }
  },
  "cells": [
    {
      "cell_type": "markdown",
      "metadata": {
        "id": "view-in-github",
        "colab_type": "text"
      },
      "source": [
        "<a href=\"https://colab.research.google.com/github/Usman194/Python-Basic-Project/blob/main/MarsWeight.ipynb\" target=\"_parent\"><img src=\"https://colab.research.google.com/assets/colab-badge.svg\" alt=\"Open In Colab\"/></a>"
      ]
    },
    {
      "cell_type": "markdown",
      "source": [
        "#Project Mars Weight\n",
        "*   round(x, 2) => 12.23\n",
        "\n",
        "\n"
      ],
      "metadata": {
        "id": "aJ3wh2AS9-MW"
      }
    },
    {
      "cell_type": "code",
      "source": [
        "def mars_weight():\n",
        "  user_input = float(input(\"Input your earth weight: \"))\n",
        "  mars_weight: float = user_input * 0.378\n",
        "  rounded_weight: float = round(mars_weight, 2)\n",
        "  print(f\"Your mars weight: {rounded_weight}kg\")\n",
        "mars_weight()\n"
      ],
      "metadata": {
        "colab": {
          "base_uri": "https://localhost:8080/"
        },
        "id": "zWCJkDtc99yN",
        "outputId": "7cade233-487a-4995-8da6-edb877e703d3"
      },
      "execution_count": null,
      "outputs": [
        {
          "output_type": "stream",
          "name": "stdout",
          "text": [
            "Input your earth weight: 23.33\n",
            "Your mars weight: 8.82kg\n"
          ]
        }
      ]
    }
  ]
}