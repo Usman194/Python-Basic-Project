{
  "nbformat": 4,
  "nbformat_minor": 0,
  "metadata": {
    "colab": {
      "provenance": [],
      "authorship_tag": "ABX9TyOCb+6sVZ6Vz1TBRCHpKk+H",
      "include_colab_link": true
    },
    "kernelspec": {
      "name": "python3",
      "display_name": "Python 3"
    },
    "language_info": {
      "name": "python"
    }
  },
  "cells": [
    {
      "cell_type": "markdown",
      "metadata": {
        "id": "view-in-github",
        "colab_type": "text"
      },
      "source": [
        "<a href=\"https://colab.research.google.com/github/Usman194/Python-Basic-Project/blob/main/StudentInfo.ipynb\" target=\"_parent\"><img src=\"https://colab.research.google.com/assets/colab-badge.svg\" alt=\"Open In Colab\"/></a>"
      ]
    },
    {
      "cell_type": "markdown",
      "metadata": {
        "id": "_xPWOR2NBGOs"
      },
      "source": [
        "1). Create a simple student information system that stores and displays a student’s name, age, grade, and address."
      ]
    },
    {
      "cell_type": "code",
      "execution_count": null,
      "metadata": {
        "id": "Stwq-TTMBL3I"
      },
      "outputs": [],
      "source": [
        "name = \"John Doe\"\n",
        "age = 21\n",
        "grade = \"A\"\n",
        "address = \"123 Main Street\"\n",
        "print(f\"Name: {name}\")\n",
        "print(f\"Age: {age}\")\n",
        "print(f\"Grade: {grade}\")\n",
        "print(f\"Address: {address}\")"
      ]
    }
  ]
}