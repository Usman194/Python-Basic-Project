{
  "nbformat": 4,
  "nbformat_minor": 0,
  "metadata": {
    "colab": {
      "provenance": [],
      "authorship_tag": "ABX9TyNHwk8BTELsTOD+QNfhNWJU",
      "include_colab_link": true
    },
    "kernelspec": {
      "name": "python3",
      "display_name": "Python 3"
    },
    "language_info": {
      "name": "python"
    }
  },
  "cells": [
    {
      "cell_type": "markdown",
      "metadata": {
        "id": "view-in-github",
        "colab_type": "text"
      },
      "source": [
        "<a href=\"https://colab.research.google.com/github/Usman194/Python-Basic-Project/blob/main/GuessNum.ipynb\" target=\"_parent\"><img src=\"https://colab.research.google.com/assets/colab-badge.svg\" alt=\"Open In Colab\"/></a>"
      ]
    },
    {
      "cell_type": "markdown",
      "metadata": {
        "id": "1DOeStm4EQRt"
      },
      "source": [
        "4).  The program generates a random number between a certain range, and the user has to guess it. The program should provide feedback if the guess is too high or too low."
      ]
    },
    {
      "cell_type": "code",
      "execution_count": null,
      "metadata": {
        "id": "9YBLIGF-Jrn6",
        "colab": {
          "base_uri": "https://localhost:8080/"
        },
        "outputId": "35a23641-29f8-4a39-eb73-c682d46bc7c6"
      },
      "outputs": [
        {
          "output_type": "stream",
          "name": "stdout",
          "text": [
            "Please enter your number: 45\n",
            "Your number is too high.\n",
            "Please enter your number: 23\n",
            "Your number is too high.\n",
            "Please enter your number: 12\n",
            "Your number is too high.\n",
            "Please enter your number: 5\n",
            "Your number is too low.\n",
            "Please enter your number: 8\n",
            "Your number is too low.\n",
            "Please enter your number: 11\n",
            "Your number is too high.\n",
            "Please enter your number: 10\n",
            "Your number is too high.\n",
            "Please enter your number: 9\n",
            "Congratulations! Your number is correct. 9\n",
            "Do you want to play again (y/n): n\n",
            "Existing game. Goodbye!\n"
          ]
        }
      ],
      "source": [
        "import random\n",
        "def guess():\n",
        " number = random.randint(1, 100)\n",
        " while True:\n",
        "  guess = int(input(\"Please enter your number: \"))\n",
        "  if( guess > number ):\n",
        "    print(\"Your number is too high.\")\n",
        "  elif( guess < number ):\n",
        "    print(\"Your number is too low.\")\n",
        "  else:\n",
        "    print(\"Congratulations! Your number is correct.\", number)\n",
        "    break\n",
        "while True:\n",
        "  guess()\n",
        "  user_input = input(\"Do you want to play again (y/n): \")\n",
        "  if user_input != \"y\":\n",
        "    print(\"Existing game. Goodbye!\")\n",
        "    break"
      ]
    }
  ]
}