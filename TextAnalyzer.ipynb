{
  "nbformat": 4,
  "nbformat_minor": 0,
  "metadata": {
    "colab": {
      "provenance": [],
      "authorship_tag": "ABX9TyM54hzEC/x1LymvJ91E5/5S",
      "include_colab_link": true
    },
    "kernelspec": {
      "name": "python3",
      "display_name": "Python 3"
    },
    "language_info": {
      "name": "python"
    }
  },
  "cells": [
    {
      "cell_type": "markdown",
      "metadata": {
        "id": "view-in-github",
        "colab_type": "text"
      },
      "source": [
        "<a href=\"https://colab.research.google.com/github/Usman194/Python-Basic-Project/blob/main/TextAnalyzer.ipynb\" target=\"_parent\"><img src=\"https://colab.research.google.com/assets/colab-badge.svg\" alt=\"Open In Colab\"/></a>"
      ]
    },
    {
      "cell_type": "markdown",
      "source": [
        "Build a text analyzer that counts number of vowels , number of consonents, number of capital letters and length of sentence"
      ],
      "metadata": {
        "id": "Q3e2WLydtZMb"
      }
    },
    {
      "cell_type": "code",
      "execution_count": 2,
      "metadata": {
        "colab": {
          "base_uri": "https://localhost:8080/"
        },
        "id": "cNYj3jURCTBz",
        "outputId": "a024b367-c0c1-4f3a-ca38-9d04bb7d42ba"
      },
      "outputs": [
        {
          "output_type": "stream",
          "name": "stdout",
          "text": [
            "Please input your sentence: hi my name is Muhammad Usman\n",
            "Vowels: 9\n",
            "Consonents: 14\n",
            "Cpital Letters: 2\n",
            "Total Length: 28\n"
          ]
        }
      ],
      "source": [
        "def text_analyzer(sentence):\n",
        "  vowels = \"aeiouAEIOU\"\n",
        "  vowel_count = 0\n",
        "  consonent_count = 0\n",
        "  total_length = len(sentence)\n",
        "  capital_count = 0\n",
        "\n",
        "  for char in sentence:\n",
        "        if char.isalpha():  # Only for alphabetic characters\n",
        "            if char in vowels:\n",
        "                vowel_count += 1\n",
        "            else:\n",
        "                consonent_count += 1\n",
        "\n",
        "            if char.isupper():  # Check if the letter is capital\n",
        "                capital_count += 1\n",
        "\n",
        "  print(f\"Vowels: {vowel_count}\")\n",
        "  print(f\"Consonents: {consonent_count}\")\n",
        "  print(f\"Cpital Letters: {capital_count}\")\n",
        "  print(f\"Total Length: {total_length}\")\n",
        "\n",
        "sentence = str(input(\"Please input your sentence: \"))\n",
        "text_analyzer(sentence)"
      ]
    }
  ]
}