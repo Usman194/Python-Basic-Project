{
  "nbformat": 4,
  "nbformat_minor": 0,
  "metadata": {
    "colab": {
      "provenance": [],
      "authorship_tag": "ABX9TyP/vyfZDObIom86pOz4fLwx",
      "include_colab_link": true
    },
    "kernelspec": {
      "name": "python3",
      "display_name": "Python 3"
    },
    "language_info": {
      "name": "python"
    }
  },
  "cells": [
    {
      "cell_type": "markdown",
      "metadata": {
        "id": "view-in-github",
        "colab_type": "text"
      },
      "source": [
        "<a href=\"https://colab.research.google.com/github/Usman194/Python-Basic-Project/blob/main/ContactBook.ipynb\" target=\"_parent\"><img src=\"https://colab.research.google.com/assets/colab-badge.svg\" alt=\"Open In Colab\"/></a>"
      ]
    },
    {
      "cell_type": "code",
      "execution_count": null,
      "metadata": {
        "id": "YBFLFC5pRkXC"
      },
      "outputs": [],
      "source": [
        "contact = {}\n",
        "\n",
        "def add_contact():\n",
        "  name = str(input(\"Enter the name of contact to add: \"))\n",
        "  phone = int(input(\"Enter the phone number: \"))\n",
        "  email = input(\"Enter the email: \")\n",
        "\n",
        "  contact[name] = {\"Phone\": phone, \"Email\": email}\n",
        "  print(f\"Contact for {name} added successfully.\")\n",
        "\n",
        "def view_contact():\n",
        "  print(\"\\nAll contact\")\n",
        "  if not contact:\n",
        "    print(\"No contact available.\")\n",
        "  else:\n",
        "    for name, details in contact.items():\n",
        "      print(f\"Contact for {name}\")\n",
        "      print(f\"Phone: {details['Phone']}\") # Change 'phone' to 'Phone'\n",
        "      print(f\"Email: {details['Email']}\") # Change 'email' to 'Email'\n",
        "\n",
        "def search_contact():\n",
        "  name = input(\"Search Contact: \")\n",
        "  if not contact:\n",
        "    print(f\"No contact available of {name}\")\n",
        "  else:\n",
        "    for name, details in contact.items():\n",
        "      print(f\"Contact for {name}\")\n",
        "      print(f\"Number : {details['Phone']}\")\n",
        "      print(f\"Email: {details['Email']}\")\n",
        "\n",
        "def del_contact():\n",
        "    name = input(\"Enter the contact name to delete: \")\n",
        "    if name in contact:\n",
        "        del contact[name]\n",
        "        print(f\"The contact for {name} has been deleted.\")\n",
        "    else:\n",
        "        print(f\"No contact found for {name}\")\n",
        "\n",
        "def main_menu():\n",
        "  while True:\n",
        "    print(\"Select Option\")\n",
        "    print(\"1. Add Contacts\")\n",
        "    print(\"2. View Contacts\")\n",
        "    print(\"3. Search Contact\")\n",
        "    print(\"4. Delete Contact\")\n",
        "    print(\"5. Exit\")\n",
        "\n",
        "    choice = input(\"Select an Option: \")\n",
        "\n",
        "    if choice == \"1\":\n",
        "      add_contact()\n",
        "    elif choice == \"2\":\n",
        "      view_contact()\n",
        "    elif choice == \"3\":\n",
        "      search_contact()\n",
        "    elif choice == \"4\":\n",
        "      del_contact()\n",
        "    elif choice == \"5\":\n",
        "      print(\"Exiting the Contact Book. Goodbye!\")\n",
        "      break\n",
        "    else:\n",
        "      print(\"Invalid choice, please try again\")\n",
        "\n",
        "main_menu()"
      ]
    }
  ]
}